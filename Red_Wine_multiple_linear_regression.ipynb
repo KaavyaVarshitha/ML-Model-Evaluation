{
  "nbformat": 4,
  "nbformat_minor": 0,
  "metadata": {
    "colab": {
      "provenance": []
    },
    "kernelspec": {
      "name": "python3",
      "display_name": "Python 3"
    }
  },
  "cells": [
    {
      "cell_type": "markdown",
      "metadata": {
        "id": "CazISR8X_HUG"
      },
      "source": [
        "# Multiple Linear Regression"
      ]
    },
    {
      "cell_type": "markdown",
      "metadata": {
        "id": "pOyqYHTk_Q57"
      },
      "source": [
        "## Importing the libraries"
      ]
    },
    {
      "cell_type": "code",
      "metadata": {
        "id": "T_YHJjnD_Tja"
      },
      "source": [
        "import numpy as np\n",
        "import matplotlib.pyplot as plt\n",
        "import pandas as pd"
      ],
      "execution_count": null,
      "outputs": []
    },
    {
      "cell_type": "markdown",
      "metadata": {
        "id": "vgC61-ah_WIz"
      },
      "source": [
        "## Importing the dataset"
      ]
    },
    {
      "cell_type": "code",
      "metadata": {
        "id": "UrxyEKGn_ez7"
      },
      "source": [
        "dataset = pd.read_csv('WineQuality-RedWine.csv')\n",
        "X = dataset.iloc[:, :-1].values\n",
        "y = dataset.iloc[:, -1].values"
      ],
      "execution_count": null,
      "outputs": []
    },
    {
      "cell_type": "markdown",
      "metadata": {
        "id": "WemVnqgeA70k"
      },
      "source": [
        "## Splitting the dataset into the Training set and Test set"
      ]
    },
    {
      "cell_type": "code",
      "metadata": {
        "id": "Kb_v_ae-A-20"
      },
      "source": [
        "from sklearn.model_selection import train_test_split\n",
        "X_train, X_test, y_train, y_test = train_test_split(X, y, test_size = 0.2, random_state = 0)"
      ],
      "execution_count": null,
      "outputs": []
    },
    {
      "cell_type": "markdown",
      "metadata": {
        "id": "k-McZVsQBINc"
      },
      "source": [
        "## Training the Multiple Linear Regression model on the Training set"
      ]
    },
    {
      "cell_type": "code",
      "metadata": {
        "id": "ywPjx0L1BMiD",
        "colab": {
          "base_uri": "https://localhost:8080/",
          "height": 74
        },
        "outputId": "992a2cb6-6762-4df2-e206-5bc8c7e8e1e3"
      },
      "source": [
        "from sklearn.linear_model import LinearRegression\n",
        "regressor = LinearRegression()\n",
        "regressor.fit(X_train, y_train)"
      ],
      "execution_count": null,
      "outputs": [
        {
          "output_type": "execute_result",
          "data": {
            "text/plain": [
              "LinearRegression()"
            ],
            "text/html": [
              "<style>#sk-container-id-1 {color: black;background-color: white;}#sk-container-id-1 pre{padding: 0;}#sk-container-id-1 div.sk-toggleable {background-color: white;}#sk-container-id-1 label.sk-toggleable__label {cursor: pointer;display: block;width: 100%;margin-bottom: 0;padding: 0.3em;box-sizing: border-box;text-align: center;}#sk-container-id-1 label.sk-toggleable__label-arrow:before {content: \"▸\";float: left;margin-right: 0.25em;color: #696969;}#sk-container-id-1 label.sk-toggleable__label-arrow:hover:before {color: black;}#sk-container-id-1 div.sk-estimator:hover label.sk-toggleable__label-arrow:before {color: black;}#sk-container-id-1 div.sk-toggleable__content {max-height: 0;max-width: 0;overflow: hidden;text-align: left;background-color: #f0f8ff;}#sk-container-id-1 div.sk-toggleable__content pre {margin: 0.2em;color: black;border-radius: 0.25em;background-color: #f0f8ff;}#sk-container-id-1 input.sk-toggleable__control:checked~div.sk-toggleable__content {max-height: 200px;max-width: 100%;overflow: auto;}#sk-container-id-1 input.sk-toggleable__control:checked~label.sk-toggleable__label-arrow:before {content: \"▾\";}#sk-container-id-1 div.sk-estimator input.sk-toggleable__control:checked~label.sk-toggleable__label {background-color: #d4ebff;}#sk-container-id-1 div.sk-label input.sk-toggleable__control:checked~label.sk-toggleable__label {background-color: #d4ebff;}#sk-container-id-1 input.sk-hidden--visually {border: 0;clip: rect(1px 1px 1px 1px);clip: rect(1px, 1px, 1px, 1px);height: 1px;margin: -1px;overflow: hidden;padding: 0;position: absolute;width: 1px;}#sk-container-id-1 div.sk-estimator {font-family: monospace;background-color: #f0f8ff;border: 1px dotted black;border-radius: 0.25em;box-sizing: border-box;margin-bottom: 0.5em;}#sk-container-id-1 div.sk-estimator:hover {background-color: #d4ebff;}#sk-container-id-1 div.sk-parallel-item::after {content: \"\";width: 100%;border-bottom: 1px solid gray;flex-grow: 1;}#sk-container-id-1 div.sk-label:hover label.sk-toggleable__label {background-color: #d4ebff;}#sk-container-id-1 div.sk-serial::before {content: \"\";position: absolute;border-left: 1px solid gray;box-sizing: border-box;top: 0;bottom: 0;left: 50%;z-index: 0;}#sk-container-id-1 div.sk-serial {display: flex;flex-direction: column;align-items: center;background-color: white;padding-right: 0.2em;padding-left: 0.2em;position: relative;}#sk-container-id-1 div.sk-item {position: relative;z-index: 1;}#sk-container-id-1 div.sk-parallel {display: flex;align-items: stretch;justify-content: center;background-color: white;position: relative;}#sk-container-id-1 div.sk-item::before, #sk-container-id-1 div.sk-parallel-item::before {content: \"\";position: absolute;border-left: 1px solid gray;box-sizing: border-box;top: 0;bottom: 0;left: 50%;z-index: -1;}#sk-container-id-1 div.sk-parallel-item {display: flex;flex-direction: column;z-index: 1;position: relative;background-color: white;}#sk-container-id-1 div.sk-parallel-item:first-child::after {align-self: flex-end;width: 50%;}#sk-container-id-1 div.sk-parallel-item:last-child::after {align-self: flex-start;width: 50%;}#sk-container-id-1 div.sk-parallel-item:only-child::after {width: 0;}#sk-container-id-1 div.sk-dashed-wrapped {border: 1px dashed gray;margin: 0 0.4em 0.5em 0.4em;box-sizing: border-box;padding-bottom: 0.4em;background-color: white;}#sk-container-id-1 div.sk-label label {font-family: monospace;font-weight: bold;display: inline-block;line-height: 1.2em;}#sk-container-id-1 div.sk-label-container {text-align: center;}#sk-container-id-1 div.sk-container {/* jupyter's `normalize.less` sets `[hidden] { display: none; }` but bootstrap.min.css set `[hidden] { display: none !important; }` so we also need the `!important` here to be able to override the default hidden behavior on the sphinx rendered scikit-learn.org. See: https://github.com/scikit-learn/scikit-learn/issues/21755 */display: inline-block !important;position: relative;}#sk-container-id-1 div.sk-text-repr-fallback {display: none;}</style><div id=\"sk-container-id-1\" class=\"sk-top-container\"><div class=\"sk-text-repr-fallback\"><pre>LinearRegression()</pre><b>In a Jupyter environment, please rerun this cell to show the HTML representation or trust the notebook. <br />On GitHub, the HTML representation is unable to render, please try loading this page with nbviewer.org.</b></div><div class=\"sk-container\" hidden><div class=\"sk-item\"><div class=\"sk-estimator sk-toggleable\"><input class=\"sk-toggleable__control sk-hidden--visually\" id=\"sk-estimator-id-1\" type=\"checkbox\" checked><label for=\"sk-estimator-id-1\" class=\"sk-toggleable__label sk-toggleable__label-arrow\">LinearRegression</label><div class=\"sk-toggleable__content\"><pre>LinearRegression()</pre></div></div></div></div></div>"
            ]
          },
          "metadata": {},
          "execution_count": 4
        }
      ]
    },
    {
      "cell_type": "markdown",
      "metadata": {
        "id": "xNkXL1YQBiBT"
      },
      "source": [
        "## Predicting the Test set results"
      ]
    },
    {
      "cell_type": "code",
      "metadata": {
        "id": "TQKmwvtdBkyb",
        "colab": {
          "base_uri": "https://localhost:8080/"
        },
        "outputId": "c253df26-ea6d-496e-89d7-ec6f3dfca6e5"
      },
      "source": [
        "y_pred = regressor.predict(X_test)\n",
        "np.set_printoptions(precision=2)\n",
        "print(np.concatenate((y_pred.reshape(len(y_pred),1), y_test.reshape(len(y_test),1)),1))"
      ],
      "execution_count": null,
      "outputs": [
        {
          "output_type": "stream",
          "name": "stdout",
          "text": [
            "[[5.78 6.  ]\n",
            " [5.04 5.  ]\n",
            " [6.6  7.  ]\n",
            " [5.34 6.  ]\n",
            " [5.94 5.  ]\n",
            " [5.01 6.  ]\n",
            " [5.4  5.  ]\n",
            " [6.05 6.  ]\n",
            " [4.87 4.  ]\n",
            " [4.95 5.  ]\n",
            " [5.29 5.  ]\n",
            " [5.41 5.  ]\n",
            " [5.71 6.  ]\n",
            " [5.13 5.  ]\n",
            " [5.53 6.  ]\n",
            " [6.38 6.  ]\n",
            " [6.81 7.  ]\n",
            " [5.74 5.  ]\n",
            " [5.98 5.  ]\n",
            " [5.09 4.  ]\n",
            " [6.34 7.  ]\n",
            " [5.16 6.  ]\n",
            " [5.64 6.  ]\n",
            " [6.15 4.  ]\n",
            " [5.48 6.  ]\n",
            " [5.03 5.  ]\n",
            " [5.19 5.  ]\n",
            " [6.49 7.  ]\n",
            " [5.33 5.  ]\n",
            " [6.3  6.  ]\n",
            " [6.03 5.  ]\n",
            " [5.83 6.  ]\n",
            " [5.59 5.  ]\n",
            " [5.29 6.  ]\n",
            " [5.76 7.  ]\n",
            " [6.15 7.  ]\n",
            " [5.14 5.  ]\n",
            " [5.48 6.  ]\n",
            " [6.39 6.  ]\n",
            " [5.79 7.  ]\n",
            " [5.43 5.  ]\n",
            " [6.05 7.  ]\n",
            " [6.7  6.  ]\n",
            " [6.6  6.  ]\n",
            " [5.97 5.  ]\n",
            " [4.79 5.  ]\n",
            " [5.5  6.  ]\n",
            " [6.02 6.  ]\n",
            " [5.49 6.  ]\n",
            " [6.11 5.  ]\n",
            " [5.31 5.  ]\n",
            " [5.28 5.  ]\n",
            " [5.76 6.  ]\n",
            " [6.36 6.  ]\n",
            " [5.72 6.  ]\n",
            " [5.27 5.  ]\n",
            " [5.08 5.  ]\n",
            " [5.31 5.  ]\n",
            " [6.51 6.  ]\n",
            " [5.44 5.  ]\n",
            " [5.16 5.  ]\n",
            " [5.76 6.  ]\n",
            " [6.07 6.  ]\n",
            " [6.29 6.  ]\n",
            " [5.07 5.  ]\n",
            " [6.12 6.  ]\n",
            " [5.36 5.  ]\n",
            " [6.01 5.  ]\n",
            " [6.12 6.  ]\n",
            " [5.99 6.  ]\n",
            " [5.35 6.  ]\n",
            " [5.44 6.  ]\n",
            " [5.06 4.  ]\n",
            " [5.59 6.  ]\n",
            " [5.63 5.  ]\n",
            " [6.26 6.  ]\n",
            " [5.38 5.  ]\n",
            " [5.31 5.  ]\n",
            " [5.72 5.  ]\n",
            " [6.3  6.  ]\n",
            " [5.71 6.  ]\n",
            " [5.28 5.  ]\n",
            " [5.9  6.  ]\n",
            " [6.09 6.  ]\n",
            " [5.51 6.  ]\n",
            " [5.37 5.  ]\n",
            " [6.24 6.  ]\n",
            " [5.07 5.  ]\n",
            " [5.33 5.  ]\n",
            " [4.97 5.  ]\n",
            " [5.16 5.  ]\n",
            " [5.32 6.  ]\n",
            " [5.81 4.  ]\n",
            " [5.41 5.  ]\n",
            " [6.21 7.  ]\n",
            " [5.35 6.  ]\n",
            " [6.29 6.  ]\n",
            " [5.36 5.  ]\n",
            " [5.45 6.  ]\n",
            " [5.91 5.  ]\n",
            " [6.86 8.  ]\n",
            " [5.96 6.  ]\n",
            " [5.78 6.  ]\n",
            " [6.29 6.  ]\n",
            " [5.6  5.  ]\n",
            " [4.95 5.  ]\n",
            " [5.6  5.  ]\n",
            " [5.42 5.  ]\n",
            " [6.01 7.  ]\n",
            " [5.28 5.  ]\n",
            " [5.89 6.  ]\n",
            " [5.13 5.  ]\n",
            " [6.24 7.  ]\n",
            " [5.02 5.  ]\n",
            " [5.61 6.  ]\n",
            " [5.78 6.  ]\n",
            " [5.67 6.  ]\n",
            " [6.41 7.  ]\n",
            " [5.8  6.  ]\n",
            " [5.64 6.  ]\n",
            " [5.14 5.  ]\n",
            " [5.91 7.  ]\n",
            " [5.41 5.  ]\n",
            " [5.08 5.  ]\n",
            " [6.21 6.  ]\n",
            " [6.32 6.  ]\n",
            " [5.31 5.  ]\n",
            " [5.43 5.  ]\n",
            " [6.   5.  ]\n",
            " [6.45 6.  ]\n",
            " [5.42 6.  ]\n",
            " [5.21 6.  ]\n",
            " [6.01 6.  ]\n",
            " [5.82 6.  ]\n",
            " [6.3  6.  ]\n",
            " [5.28 5.  ]\n",
            " [5.89 6.  ]\n",
            " [5.28 5.  ]\n",
            " [6.07 8.  ]\n",
            " [5.33 5.  ]\n",
            " [6.02 6.  ]\n",
            " [5.1  5.  ]\n",
            " [5.5  6.  ]\n",
            " [5.27 5.  ]\n",
            " [5.65 4.  ]\n",
            " [5.74 6.  ]\n",
            " [6.24 7.  ]\n",
            " [6.41 6.  ]\n",
            " [6.25 5.  ]\n",
            " [5.28 6.  ]\n",
            " [5.91 6.  ]\n",
            " [5.9  5.  ]\n",
            " [5.42 5.  ]\n",
            " [5.51 5.  ]\n",
            " [5.55 6.  ]\n",
            " [5.4  6.  ]\n",
            " [5.08 3.  ]\n",
            " [5.35 6.  ]\n",
            " [6.22 6.  ]\n",
            " [6.1  6.  ]\n",
            " [5.93 6.  ]\n",
            " [5.59 6.  ]\n",
            " [6.28 6.  ]\n",
            " [5.12 6.  ]\n",
            " [5.93 5.  ]\n",
            " [5.03 5.  ]\n",
            " [6.02 6.  ]\n",
            " [6.49 6.  ]\n",
            " [5.48 6.  ]\n",
            " [5.95 6.  ]\n",
            " [5.97 5.  ]\n",
            " [5.53 5.  ]\n",
            " [4.99 5.  ]\n",
            " [6.62 8.  ]\n",
            " [5.83 5.  ]\n",
            " [6.27 6.  ]\n",
            " [6.17 6.  ]\n",
            " [6.82 7.  ]\n",
            " [6.09 7.  ]\n",
            " [4.8  5.  ]\n",
            " [5.08 5.  ]\n",
            " [6.97 7.  ]\n",
            " [5.47 5.  ]\n",
            " [6.16 6.  ]\n",
            " [6.77 6.  ]\n",
            " [5.01 4.  ]\n",
            " [5.65 5.  ]\n",
            " [5.78 6.  ]\n",
            " [5.   5.  ]\n",
            " [6.13 5.  ]\n",
            " [6.07 6.  ]\n",
            " [5.9  5.  ]\n",
            " [5.16 6.  ]\n",
            " [5.46 6.  ]\n",
            " [5.19 5.  ]\n",
            " [5.16 5.  ]\n",
            " [5.29 5.  ]\n",
            " [5.15 5.  ]\n",
            " [5.23 5.  ]\n",
            " [5.13 5.  ]\n",
            " [5.25 5.  ]\n",
            " [6.16 6.  ]\n",
            " [5.16 6.  ]\n",
            " [5.3  5.  ]\n",
            " [5.41 6.  ]\n",
            " [4.96 6.  ]\n",
            " [5.09 5.  ]\n",
            " [6.34 6.  ]\n",
            " [6.02 7.  ]\n",
            " [5.41 6.  ]\n",
            " [5.93 6.  ]\n",
            " [6.17 6.  ]\n",
            " [5.35 5.  ]\n",
            " [6.37 5.  ]\n",
            " [5.   5.  ]\n",
            " [5.45 6.  ]\n",
            " [5.9  5.  ]\n",
            " [6.03 6.  ]\n",
            " [5.56 6.  ]\n",
            " [5.   5.  ]\n",
            " [5.04 5.  ]\n",
            " [5.93 5.  ]\n",
            " [6.39 6.  ]\n",
            " [5.75 6.  ]\n",
            " [5.43 5.  ]\n",
            " [6.01 6.  ]\n",
            " [6.38 6.  ]\n",
            " [5.76 6.  ]\n",
            " [4.82 3.  ]\n",
            " [5.47 6.  ]\n",
            " [5.04 5.  ]\n",
            " [5.91 5.  ]\n",
            " [5.07 7.  ]\n",
            " [5.87 6.  ]\n",
            " [6.26 7.  ]\n",
            " [5.64 6.  ]\n",
            " [6.11 6.  ]\n",
            " [6.58 7.  ]\n",
            " [6.51 7.  ]\n",
            " [6.13 6.  ]\n",
            " [5.35 5.  ]\n",
            " [4.92 6.  ]\n",
            " [5.03 5.  ]\n",
            " [5.1  5.  ]\n",
            " [5.94 6.  ]\n",
            " [4.83 5.  ]\n",
            " [5.59 5.  ]\n",
            " [5.25 5.  ]\n",
            " [4.87 5.  ]\n",
            " [6.34 6.  ]\n",
            " [4.87 5.  ]\n",
            " [5.27 5.  ]\n",
            " [4.89 5.  ]\n",
            " [5.34 6.  ]\n",
            " [5.53 6.  ]\n",
            " [5.54 5.  ]\n",
            " [5.13 5.  ]\n",
            " [5.06 5.  ]\n",
            " [5.14 6.  ]\n",
            " [5.6  7.  ]\n",
            " [5.34 5.  ]\n",
            " [6.97 6.  ]\n",
            " [5.31 5.  ]\n",
            " [5.65 6.  ]\n",
            " [5.24 5.  ]\n",
            " [4.69 4.  ]\n",
            " [5.33 5.  ]\n",
            " [4.98 5.  ]\n",
            " [5.6  6.  ]\n",
            " [6.49 7.  ]\n",
            " [5.73 6.  ]\n",
            " [5.73 5.  ]\n",
            " [5.64 5.  ]\n",
            " [6.09 4.  ]\n",
            " [5.93 5.  ]\n",
            " [5.85 6.  ]\n",
            " [6.37 7.  ]\n",
            " [5.18 6.  ]\n",
            " [6.57 6.  ]\n",
            " [6.14 7.  ]\n",
            " [5.38 5.  ]\n",
            " [6.92 7.  ]\n",
            " [5.73 5.  ]\n",
            " [6.34 6.  ]\n",
            " [5.78 6.  ]\n",
            " [5.18 5.  ]\n",
            " [5.55 5.  ]\n",
            " [5.33 5.  ]\n",
            " [6.27 6.  ]\n",
            " [5.88 6.  ]\n",
            " [5.68 5.  ]\n",
            " [5.42 6.  ]\n",
            " [6.13 6.  ]\n",
            " [5.31 6.  ]\n",
            " [5.2  5.  ]\n",
            " [5.7  6.  ]\n",
            " [5.57 6.  ]\n",
            " [5.15 5.  ]\n",
            " [5.16 6.  ]\n",
            " [5.24 5.  ]\n",
            " [5.7  6.  ]\n",
            " [5.06 5.  ]\n",
            " [5.36 6.  ]\n",
            " [5.7  6.  ]\n",
            " [6.1  6.  ]\n",
            " [5.85 6.  ]\n",
            " [5.34 5.  ]\n",
            " [5.05 5.  ]\n",
            " [5.59 6.  ]\n",
            " [5.31 5.  ]\n",
            " [5.91 5.  ]\n",
            " [5.92 6.  ]\n",
            " [5.35 5.  ]\n",
            " [5.36 5.  ]\n",
            " [5.1  5.  ]\n",
            " [6.56 6.  ]\n",
            " [6.02 4.  ]\n",
            " [6.25 5.  ]\n",
            " [5.16 4.  ]\n",
            " [6.37 6.  ]]\n"
          ]
        }
      ]
    },
    {
      "cell_type": "markdown",
      "metadata": {
        "id": "50DZZy0UyhLi"
      },
      "source": [
        "## Evaluating the Model Performance"
      ]
    },
    {
      "cell_type": "code",
      "metadata": {
        "id": "xPagAOKDywV4",
        "colab": {
          "base_uri": "https://localhost:8080/"
        },
        "outputId": "52d1f293-7382-4c05-ede6-c2d90d9b4f12"
      },
      "source": [
        "from sklearn.metrics import r2_score, mean_squared_error,mean_absolute_percentage_error\n",
        "import math\n",
        "\n",
        "maxY=max(y_test)\n",
        "minY=min(y_test)\n",
        "a=maxY-minY\n",
        "print (\"The R-Squared value is: \"+str(r2_score(y_test, y_pred)))\n",
        "print (\"The Mean Squared Error value is: \"+str(mean_squared_error(y_test, y_pred)))\n",
        "print (\"The Root Mean Squared Error value is: \"+str(math.sqrt(mean_squared_error(y_test, y_pred))))\n",
        "print (\"The Normalize Root Mean Squared Error value is: \"+str(math.sqrt(mean_squared_error(y_test, y_pred))/a*100))\n",
        "print (\"The Mean Absolute Error value is: \"+str(mean_absolute_percentage_error(y_test, y_pred)*100))\n"
      ],
      "execution_count": null,
      "outputs": [
        {
          "output_type": "stream",
          "name": "stdout",
          "text": [
            "The R-Squared value is: 0.3283887639581422\n",
            "The Mean Squared Error value is: 0.38447119782005573\n",
            "The Root Mean Squared Error value is: 0.6200574149383714\n",
            "The Normalize Root Mean Squared Error value is: 12.401148298767428\n",
            "The Mean Absolute Error value is: 8.781960464322683\n"
          ]
        }
      ]
    }
  ]
}