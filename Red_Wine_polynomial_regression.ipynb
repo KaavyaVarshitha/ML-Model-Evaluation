{
  "nbformat": 4,
  "nbformat_minor": 0,
  "metadata": {
    "colab": {
      "provenance": []
    },
    "kernelspec": {
      "name": "python3",
      "display_name": "Python 3"
    }
  },
  "cells": [
    {
      "cell_type": "markdown",
      "metadata": {
        "id": "vN99YjPTDena"
      },
      "source": [
        "# Polynomial Regression"
      ]
    },
    {
      "cell_type": "markdown",
      "metadata": {
        "id": "ZIx_naXnDyHd"
      },
      "source": [
        "## Importing the libraries"
      ]
    },
    {
      "cell_type": "code",
      "metadata": {
        "id": "FjnmdyPLD2tS"
      },
      "source": [
        "import numpy as np\n",
        "import matplotlib.pyplot as plt\n",
        "import pandas as pd"
      ],
      "execution_count": null,
      "outputs": []
    },
    {
      "cell_type": "markdown",
      "metadata": {
        "id": "6c8YExmOD5x5"
      },
      "source": [
        "## Importing the dataset"
      ]
    },
    {
      "cell_type": "code",
      "metadata": {
        "id": "nQOdXhjXD_AE"
      },
      "source": [
        "dataset = pd.read_csv('WineQuality-RedWine.csv')\n",
        "X = dataset.iloc[:, :-1].values\n",
        "y = dataset.iloc[:, -1].values"
      ],
      "execution_count": null,
      "outputs": []
    },
    {
      "cell_type": "markdown",
      "metadata": {
        "id": "Ud_1XTb28iXH"
      },
      "source": [
        "## Splitting the dataset into the Training set and Test set"
      ]
    },
    {
      "cell_type": "code",
      "metadata": {
        "id": "bUib_pbl8ipB"
      },
      "source": [
        "from sklearn.model_selection import train_test_split\n",
        "X_train, X_test, y_train, y_test = train_test_split(X, y, test_size = 0.2, random_state = 0)"
      ],
      "execution_count": null,
      "outputs": []
    },
    {
      "cell_type": "markdown",
      "metadata": {
        "id": "Rb5nWuSHEfBV"
      },
      "source": [
        "## Training the Polynomial Regression model on the Training set"
      ]
    },
    {
      "cell_type": "code",
      "metadata": {
        "id": "HYplp4pTEm0O",
        "colab": {
          "base_uri": "https://localhost:8080/",
          "height": 74
        },
        "outputId": "134fd7b8-0b26-44ff-9abe-afdbb04ee6fc"
      },
      "source": [
        "from sklearn.preprocessing import PolynomialFeatures\n",
        "from sklearn.linear_model import LinearRegression\n",
        "poly_reg = PolynomialFeatures(degree = 4)\n",
        "X_poly = poly_reg.fit_transform(X_train)\n",
        "regressor = LinearRegression()\n",
        "regressor.fit(X_poly, y_train)"
      ],
      "execution_count": null,
      "outputs": [
        {
          "output_type": "execute_result",
          "data": {
            "text/plain": [
              "LinearRegression()"
            ],
            "text/html": [
              "<style>#sk-container-id-1 {color: black;background-color: white;}#sk-container-id-1 pre{padding: 0;}#sk-container-id-1 div.sk-toggleable {background-color: white;}#sk-container-id-1 label.sk-toggleable__label {cursor: pointer;display: block;width: 100%;margin-bottom: 0;padding: 0.3em;box-sizing: border-box;text-align: center;}#sk-container-id-1 label.sk-toggleable__label-arrow:before {content: \"▸\";float: left;margin-right: 0.25em;color: #696969;}#sk-container-id-1 label.sk-toggleable__label-arrow:hover:before {color: black;}#sk-container-id-1 div.sk-estimator:hover label.sk-toggleable__label-arrow:before {color: black;}#sk-container-id-1 div.sk-toggleable__content {max-height: 0;max-width: 0;overflow: hidden;text-align: left;background-color: #f0f8ff;}#sk-container-id-1 div.sk-toggleable__content pre {margin: 0.2em;color: black;border-radius: 0.25em;background-color: #f0f8ff;}#sk-container-id-1 input.sk-toggleable__control:checked~div.sk-toggleable__content {max-height: 200px;max-width: 100%;overflow: auto;}#sk-container-id-1 input.sk-toggleable__control:checked~label.sk-toggleable__label-arrow:before {content: \"▾\";}#sk-container-id-1 div.sk-estimator input.sk-toggleable__control:checked~label.sk-toggleable__label {background-color: #d4ebff;}#sk-container-id-1 div.sk-label input.sk-toggleable__control:checked~label.sk-toggleable__label {background-color: #d4ebff;}#sk-container-id-1 input.sk-hidden--visually {border: 0;clip: rect(1px 1px 1px 1px);clip: rect(1px, 1px, 1px, 1px);height: 1px;margin: -1px;overflow: hidden;padding: 0;position: absolute;width: 1px;}#sk-container-id-1 div.sk-estimator {font-family: monospace;background-color: #f0f8ff;border: 1px dotted black;border-radius: 0.25em;box-sizing: border-box;margin-bottom: 0.5em;}#sk-container-id-1 div.sk-estimator:hover {background-color: #d4ebff;}#sk-container-id-1 div.sk-parallel-item::after {content: \"\";width: 100%;border-bottom: 1px solid gray;flex-grow: 1;}#sk-container-id-1 div.sk-label:hover label.sk-toggleable__label {background-color: #d4ebff;}#sk-container-id-1 div.sk-serial::before {content: \"\";position: absolute;border-left: 1px solid gray;box-sizing: border-box;top: 0;bottom: 0;left: 50%;z-index: 0;}#sk-container-id-1 div.sk-serial {display: flex;flex-direction: column;align-items: center;background-color: white;padding-right: 0.2em;padding-left: 0.2em;position: relative;}#sk-container-id-1 div.sk-item {position: relative;z-index: 1;}#sk-container-id-1 div.sk-parallel {display: flex;align-items: stretch;justify-content: center;background-color: white;position: relative;}#sk-container-id-1 div.sk-item::before, #sk-container-id-1 div.sk-parallel-item::before {content: \"\";position: absolute;border-left: 1px solid gray;box-sizing: border-box;top: 0;bottom: 0;left: 50%;z-index: -1;}#sk-container-id-1 div.sk-parallel-item {display: flex;flex-direction: column;z-index: 1;position: relative;background-color: white;}#sk-container-id-1 div.sk-parallel-item:first-child::after {align-self: flex-end;width: 50%;}#sk-container-id-1 div.sk-parallel-item:last-child::after {align-self: flex-start;width: 50%;}#sk-container-id-1 div.sk-parallel-item:only-child::after {width: 0;}#sk-container-id-1 div.sk-dashed-wrapped {border: 1px dashed gray;margin: 0 0.4em 0.5em 0.4em;box-sizing: border-box;padding-bottom: 0.4em;background-color: white;}#sk-container-id-1 div.sk-label label {font-family: monospace;font-weight: bold;display: inline-block;line-height: 1.2em;}#sk-container-id-1 div.sk-label-container {text-align: center;}#sk-container-id-1 div.sk-container {/* jupyter's `normalize.less` sets `[hidden] { display: none; }` but bootstrap.min.css set `[hidden] { display: none !important; }` so we also need the `!important` here to be able to override the default hidden behavior on the sphinx rendered scikit-learn.org. See: https://github.com/scikit-learn/scikit-learn/issues/21755 */display: inline-block !important;position: relative;}#sk-container-id-1 div.sk-text-repr-fallback {display: none;}</style><div id=\"sk-container-id-1\" class=\"sk-top-container\"><div class=\"sk-text-repr-fallback\"><pre>LinearRegression()</pre><b>In a Jupyter environment, please rerun this cell to show the HTML representation or trust the notebook. <br />On GitHub, the HTML representation is unable to render, please try loading this page with nbviewer.org.</b></div><div class=\"sk-container\" hidden><div class=\"sk-item\"><div class=\"sk-estimator sk-toggleable\"><input class=\"sk-toggleable__control sk-hidden--visually\" id=\"sk-estimator-id-1\" type=\"checkbox\" checked><label for=\"sk-estimator-id-1\" class=\"sk-toggleable__label sk-toggleable__label-arrow\">LinearRegression</label><div class=\"sk-toggleable__content\"><pre>LinearRegression()</pre></div></div></div></div></div>"
            ]
          },
          "metadata": {},
          "execution_count": 4
        }
      ]
    },
    {
      "cell_type": "markdown",
      "metadata": {
        "id": "pzF3BRps9nlk"
      },
      "source": [
        "## Predicting the Test set results"
      ]
    },
    {
      "cell_type": "code",
      "metadata": {
        "id": "36aFLFBK9pMk",
        "colab": {
          "base_uri": "https://localhost:8080/"
        },
        "outputId": "abd18eae-a5ac-4d85-92fc-ae98c7ba4e89"
      },
      "source": [
        "y_pred = regressor.predict(poly_reg.transform(X_test))\n",
        "np.set_printoptions(precision=2)\n",
        "print(np.concatenate((y_pred.reshape(len(y_pred),1), y_test.reshape(len(y_test),1)),1))"
      ],
      "execution_count": null,
      "outputs": [
        {
          "output_type": "stream",
          "name": "stdout",
          "text": [
            "[[ 7.83e+01  6.00e+00]\n",
            " [-2.94e+00  5.00e+00]\n",
            " [ 7.03e+00  7.00e+00]\n",
            " [ 7.62e+00  6.00e+00]\n",
            " [ 5.02e+00  5.00e+00]\n",
            " [ 5.99e+00  6.00e+00]\n",
            " [ 8.93e-02  5.00e+00]\n",
            " [ 6.00e+00  6.00e+00]\n",
            " [ 3.48e+01  4.00e+00]\n",
            " [ 1.10e+01  5.00e+00]\n",
            " [-9.13e-01  5.00e+00]\n",
            " [ 5.02e+00  5.00e+00]\n",
            " [ 6.07e+00  6.00e+00]\n",
            " [ 7.81e+00  5.00e+00]\n",
            " [ 5.00e-01  6.00e+00]\n",
            " [ 9.93e+00  6.00e+00]\n",
            " [ 6.97e+00  7.00e+00]\n",
            " [ 1.04e+01  5.00e+00]\n",
            " [ 7.62e+00  5.00e+00]\n",
            " [ 3.03e+01  4.00e+00]\n",
            " [ 2.02e+01  7.00e+00]\n",
            " [-2.88e+01  6.00e+00]\n",
            " [ 5.99e+00  6.00e+00]\n",
            " [ 1.47e+03  4.00e+00]\n",
            " [ 6.61e+00  6.00e+00]\n",
            " [-1.83e+01  5.00e+00]\n",
            " [ 2.31e+01  5.00e+00]\n",
            " [ 1.61e+01  7.00e+00]\n",
            " [-1.15e+01  5.00e+00]\n",
            " [ 1.60e+01  6.00e+00]\n",
            " [ 5.07e+00  5.00e+00]\n",
            " [-5.03e+00  6.00e+00]\n",
            " [ 1.01e+00  5.00e+00]\n",
            " [ 8.14e+00  6.00e+00]\n",
            " [ 7.03e+00  7.00e+00]\n",
            " [ 7.02e+00  7.00e+00]\n",
            " [ 1.84e+00  5.00e+00]\n",
            " [ 6.09e+00  6.00e+00]\n",
            " [ 8.69e+00  6.00e+00]\n",
            " [ 4.90e+00  7.00e+00]\n",
            " [ 1.19e+01  5.00e+00]\n",
            " [ 3.20e+01  7.00e+00]\n",
            " [-1.69e+02  6.00e+00]\n",
            " [-1.99e+01  6.00e+00]\n",
            " [ 8.15e+00  5.00e+00]\n",
            " [-2.24e+01  5.00e+00]\n",
            " [ 1.23e+01  6.00e+00]\n",
            " [ 5.97e+00  6.00e+00]\n",
            " [ 1.37e+01  6.00e+00]\n",
            " [ 2.45e+01  5.00e+00]\n",
            " [ 9.65e+00  5.00e+00]\n",
            " [ 4.94e+01  5.00e+00]\n",
            " [ 6.00e+00  6.00e+00]\n",
            " [ 6.00e+00  6.00e+00]\n",
            " [ 9.49e+00  6.00e+00]\n",
            " [ 5.04e+00  5.00e+00]\n",
            " [ 1.92e+01  5.00e+00]\n",
            " [ 5.03e+00  5.00e+00]\n",
            " [ 9.93e+00  6.00e+00]\n",
            " [ 7.22e+00  5.00e+00]\n",
            " [ 5.43e+00  5.00e+00]\n",
            " [ 6.33e+00  6.00e+00]\n",
            " [-1.11e+01  6.00e+00]\n",
            " [ 2.43e+01  6.00e+00]\n",
            " [ 5.19e+00  5.00e+00]\n",
            " [ 4.87e+00  6.00e+00]\n",
            " [ 5.01e+00  5.00e+00]\n",
            " [ 5.59e+00  5.00e+00]\n",
            " [ 8.54e+01  6.00e+00]\n",
            " [ 5.99e+00  6.00e+00]\n",
            " [ 1.65e+00  6.00e+00]\n",
            " [ 5.72e+01  6.00e+00]\n",
            " [ 3.62e+00  4.00e+00]\n",
            " [-1.94e+01  6.00e+00]\n",
            " [ 3.45e+00  5.00e+00]\n",
            " [ 1.29e+01  6.00e+00]\n",
            " [ 5.02e+00  5.00e+00]\n",
            " [ 5.00e+00  5.00e+00]\n",
            " [ 4.99e+00  5.00e+00]\n",
            " [-2.11e+00  6.00e+00]\n",
            " [ 1.35e+01  6.00e+00]\n",
            " [-6.08e+00  5.00e+00]\n",
            " [ 3.24e+01  6.00e+00]\n",
            " [ 1.22e+00  6.00e+00]\n",
            " [ 3.29e+00  6.00e+00]\n",
            " [ 3.77e+00  5.00e+00]\n",
            " [ 8.50e+01  6.00e+00]\n",
            " [ 5.05e+00  5.00e+00]\n",
            " [ 7.58e+00  5.00e+00]\n",
            " [ 3.16e+00  5.00e+00]\n",
            " [ 9.72e+00  5.00e+00]\n",
            " [ 5.98e+00  6.00e+00]\n",
            " [ 1.49e+01  4.00e+00]\n",
            " [ 6.90e+00  5.00e+00]\n",
            " [-6.06e+00  7.00e+00]\n",
            " [ 1.65e+00  6.00e+00]\n",
            " [ 4.83e+00  6.00e+00]\n",
            " [-1.34e+01  5.00e+00]\n",
            " [-1.02e+00  6.00e+00]\n",
            " [ 6.44e-01  5.00e+00]\n",
            " [-8.96e+01  8.00e+00]\n",
            " [ 6.70e+01  6.00e+00]\n",
            " [ 9.66e-01  6.00e+00]\n",
            " [ 2.82e+00  6.00e+00]\n",
            " [ 5.21e+00  5.00e+00]\n",
            " [-2.33e+01  5.00e+00]\n",
            " [ 5.21e+00  5.00e+00]\n",
            " [ 4.14e+00  5.00e+00]\n",
            " [ 4.58e+00  7.00e+00]\n",
            " [ 5.05e+00  5.00e+00]\n",
            " [ 5.97e+00  6.00e+00]\n",
            " [-7.35e+00  5.00e+00]\n",
            " [ 9.82e+00  7.00e+00]\n",
            " [-1.55e+02  5.00e+00]\n",
            " [ 6.71e+00  6.00e+00]\n",
            " [ 9.06e+00  6.00e+00]\n",
            " [-7.33e+00  6.00e+00]\n",
            " [ 3.27e+01  7.00e+00]\n",
            " [ 8.50e+01  6.00e+00]\n",
            " [ 5.99e+00  6.00e+00]\n",
            " [ 2.56e+01  5.00e+00]\n",
            " [ 3.56e+01  7.00e+00]\n",
            " [-4.29e+02  5.00e+00]\n",
            " [ 5.32e+00  5.00e+00]\n",
            " [ 2.67e+02  6.00e+00]\n",
            " [ 6.37e+00  6.00e+00]\n",
            " [-7.95e+00  5.00e+00]\n",
            " [ 1.35e+00  5.00e+00]\n",
            " [ 5.32e+00  5.00e+00]\n",
            " [ 1.46e+00  6.00e+00]\n",
            " [ 9.35e+00  6.00e+00]\n",
            " [ 4.85e+00  6.00e+00]\n",
            " [ 5.34e+00  6.00e+00]\n",
            " [ 1.41e+01  6.00e+00]\n",
            " [ 6.00e+00  6.00e+00]\n",
            " [ 3.95e+00  5.00e+00]\n",
            " [ 5.98e+00  6.00e+00]\n",
            " [ 5.89e+01  5.00e+00]\n",
            " [ 1.18e+01  8.00e+00]\n",
            " [ 4.94e+00  5.00e+00]\n",
            " [ 6.00e+00  6.00e+00]\n",
            " [ 8.84e+00  5.00e+00]\n",
            " [ 1.23e+01  6.00e+00]\n",
            " [ 1.76e+01  5.00e+00]\n",
            " [-4.51e+01  4.00e+00]\n",
            " [ 6.03e+00  6.00e+00]\n",
            " [ 9.82e+00  7.00e+00]\n",
            " [ 5.96e+00  6.00e+00]\n",
            " [ 5.01e+00  5.00e+00]\n",
            " [ 5.51e+00  6.00e+00]\n",
            " [ 9.69e+00  6.00e+00]\n",
            " [ 4.96e+00  5.00e+00]\n",
            " [ 4.14e+00  5.00e+00]\n",
            " [ 1.41e+01  5.00e+00]\n",
            " [ 5.94e+00  6.00e+00]\n",
            " [ 8.31e+00  6.00e+00]\n",
            " [-1.70e+01  3.00e+00]\n",
            " [ 3.20e+00  6.00e+00]\n",
            " [ 1.61e+01  6.00e+00]\n",
            " [ 2.44e+01  6.00e+00]\n",
            " [ 2.94e+00  6.00e+00]\n",
            " [ 4.41e+00  6.00e+00]\n",
            " [-1.67e+01  6.00e+00]\n",
            " [-2.24e+01  6.00e+00]\n",
            " [ 4.96e+00  5.00e+00]\n",
            " [ 4.97e+00  5.00e+00]\n",
            " [ 5.98e+00  6.00e+00]\n",
            " [ 6.72e+00  6.00e+00]\n",
            " [ 6.01e+00  6.00e+00]\n",
            " [ 5.92e+00  6.00e+00]\n",
            " [ 2.16e+01  5.00e+00]\n",
            " [ 1.70e+00  5.00e+00]\n",
            " [ 6.41e+00  5.00e+00]\n",
            " [ 9.61e-01  8.00e+00]\n",
            " [ 2.39e+02  5.00e+00]\n",
            " [-6.48e+00  6.00e+00]\n",
            " [ 1.03e+02  6.00e+00]\n",
            " [ 8.06e+00  7.00e+00]\n",
            " [ 7.04e+00  7.00e+00]\n",
            " [-5.64e+00  5.00e+00]\n",
            " [-5.43e+00  5.00e+00]\n",
            " [ 6.56e+01  7.00e+00]\n",
            " [ 7.34e+00  5.00e+00]\n",
            " [-4.10e+01  6.00e+00]\n",
            " [-2.18e+01  6.00e+00]\n",
            " [ 6.14e+00  4.00e+00]\n",
            " [ 8.75e+00  5.00e+00]\n",
            " [ 9.66e-01  6.00e+00]\n",
            " [ 5.04e+00  5.00e+00]\n",
            " [ 4.94e+00  5.00e+00]\n",
            " [ 6.03e+00  6.00e+00]\n",
            " [ 2.24e+01  5.00e+00]\n",
            " [-1.35e+01  6.00e+00]\n",
            " [ 6.02e+00  6.00e+00]\n",
            " [ 4.99e+00  5.00e+00]\n",
            " [ 2.25e+00  5.00e+00]\n",
            " [-9.13e-01  5.00e+00]\n",
            " [ 1.16e+01  5.00e+00]\n",
            " [ 3.62e+00  5.00e+00]\n",
            " [-1.42e+02  5.00e+00]\n",
            " [ 1.52e+01  5.00e+00]\n",
            " [ 7.28e+00  6.00e+00]\n",
            " [ 6.04e+00  6.00e+00]\n",
            " [ 6.54e+00  5.00e+00]\n",
            " [-1.73e+01  6.00e+00]\n",
            " [ 1.18e+01  6.00e+00]\n",
            " [-3.79e-01  5.00e+00]\n",
            " [ 6.35e+00  6.00e+00]\n",
            " [ 1.42e+01  7.00e+00]\n",
            " [ 6.06e+00  6.00e+00]\n",
            " [-7.71e+00  6.00e+00]\n",
            " [ 5.49e+02  6.00e+00]\n",
            " [-3.93e+01  5.00e+00]\n",
            " [ 3.42e+01  5.00e+00]\n",
            " [ 5.02e+00  5.00e+00]\n",
            " [ 6.06e+00  6.00e+00]\n",
            " [ 1.82e+00  5.00e+00]\n",
            " [ 4.90e+01  6.00e+00]\n",
            " [ 5.95e+00  6.00e+00]\n",
            " [-6.76e+01  5.00e+00]\n",
            " [ 5.04e+00  5.00e+00]\n",
            " [ 7.39e+00  5.00e+00]\n",
            " [ 3.43e+00  6.00e+00]\n",
            " [ 2.09e+01  6.00e+00]\n",
            " [ 3.05e+00  5.00e+00]\n",
            " [ 1.69e+01  6.00e+00]\n",
            " [ 3.40e+00  6.00e+00]\n",
            " [ 3.41e+01  6.00e+00]\n",
            " [-1.40e+02  3.00e+00]\n",
            " [ 2.20e+00  6.00e+00]\n",
            " [ 5.04e+00  5.00e+00]\n",
            " [ 1.22e+01  5.00e+00]\n",
            " [ 1.06e+01  7.00e+00]\n",
            " [ 4.11e+01  6.00e+00]\n",
            " [ 6.93e+00  7.00e+00]\n",
            " [ 5.93e+00  6.00e+00]\n",
            " [-5.06e+00  6.00e+00]\n",
            " [ 9.28e+00  7.00e+00]\n",
            " [ 7.00e+00  7.00e+00]\n",
            " [ 6.02e+00  6.00e+00]\n",
            " [ 5.04e+00  5.00e+00]\n",
            " [ 3.95e+01  6.00e+00]\n",
            " [ 1.08e+01  5.00e+00]\n",
            " [ 3.14e+00  5.00e+00]\n",
            " [ 7.78e+00  6.00e+00]\n",
            " [ 2.34e+01  5.00e+00]\n",
            " [ 5.32e+00  5.00e+00]\n",
            " [ 4.98e+00  5.00e+00]\n",
            " [ 4.99e+00  5.00e+00]\n",
            " [ 5.93e+00  6.00e+00]\n",
            " [ 2.19e+01  5.00e+00]\n",
            " [ 1.44e+01  5.00e+00]\n",
            " [-2.33e+00  5.00e+00]\n",
            " [-1.98e+00  6.00e+00]\n",
            " [ 1.04e+01  6.00e+00]\n",
            " [ 8.87e+00  5.00e+00]\n",
            " [ 4.99e+00  5.00e+00]\n",
            " [ 1.25e+01  5.00e+00]\n",
            " [ 1.86e+00  6.00e+00]\n",
            " [ 7.00e+00  7.00e+00]\n",
            " [ 8.83e+00  5.00e+00]\n",
            " [ 6.00e+00  6.00e+00]\n",
            " [ 1.46e+01  5.00e+00]\n",
            " [ 5.95e+00  6.00e+00]\n",
            " [ 4.45e+00  5.00e+00]\n",
            " [ 2.40e+01  4.00e+00]\n",
            " [ 2.51e+01  5.00e+00]\n",
            " [-3.26e+02  5.00e+00]\n",
            " [ 1.42e+01  6.00e+00]\n",
            " [ 1.85e+01  7.00e+00]\n",
            " [ 3.61e+00  6.00e+00]\n",
            " [ 2.36e+01  5.00e+00]\n",
            " [ 8.33e+00  5.00e+00]\n",
            " [ 5.57e-01  4.00e+00]\n",
            " [-5.84e+01  5.00e+00]\n",
            " [ 4.00e+00  6.00e+00]\n",
            " [ 1.37e+01  7.00e+00]\n",
            " [ 5.99e+00  6.00e+00]\n",
            " [-2.48e+01  6.00e+00]\n",
            " [ 1.72e+01  7.00e+00]\n",
            " [ 1.77e+01  5.00e+00]\n",
            " [-4.87e+01  7.00e+00]\n",
            " [ 2.36e+01  5.00e+00]\n",
            " [-4.76e+01  6.00e+00]\n",
            " [ 5.97e+00  6.00e+00]\n",
            " [ 5.08e+00  5.00e+00]\n",
            " [ 3.44e+00  5.00e+00]\n",
            " [ 3.80e+00  5.00e+00]\n",
            " [ 8.51e+00  6.00e+00]\n",
            " [ 5.93e+00  6.00e+00]\n",
            " [ 4.90e+00  5.00e+00]\n",
            " [-3.34e+01  6.00e+00]\n",
            " [ 6.00e+00  6.00e+00]\n",
            " [-1.54e+01  6.00e+00]\n",
            " [ 4.85e+00  5.00e+00]\n",
            " [ 6.05e+00  6.00e+00]\n",
            " [ 6.94e+00  6.00e+00]\n",
            " [-2.18e+01  5.00e+00]\n",
            " [-3.93e-01  6.00e+00]\n",
            " [-2.69e+00  5.00e+00]\n",
            " [ 5.99e+00  6.00e+00]\n",
            " [ 4.31e+00  5.00e+00]\n",
            " [ 6.01e+00  6.00e+00]\n",
            " [ 1.34e+01  6.00e+00]\n",
            " [ 8.62e+00  6.00e+00]\n",
            " [ 1.74e+01  6.00e+00]\n",
            " [ 3.85e-01  5.00e+00]\n",
            " [ 2.56e-01  5.00e+00]\n",
            " [ 2.49e-01  6.00e+00]\n",
            " [ 4.95e+00  5.00e+00]\n",
            " [ 4.98e+00  5.00e+00]\n",
            " [ 6.02e+00  6.00e+00]\n",
            " [ 4.93e+00  5.00e+00]\n",
            " [-1.34e+01  5.00e+00]\n",
            " [ 1.77e+01  5.00e+00]\n",
            " [-1.44e+01  6.00e+00]\n",
            " [ 8.70e-01  4.00e+00]\n",
            " [ 8.30e+00  5.00e+00]\n",
            " [ 1.36e+01  4.00e+00]\n",
            " [ 7.51e+00  6.00e+00]]\n"
          ]
        }
      ]
    },
    {
      "cell_type": "markdown",
      "metadata": {
        "id": "Fz1uTlWV919-"
      },
      "source": [
        "## Evaluating the Model Performance"
      ]
    },
    {
      "cell_type": "code",
      "metadata": {
        "id": "xvZQ_4W893-e",
        "colab": {
          "base_uri": "https://localhost:8080/"
        },
        "outputId": "54634fc1-c880-48fb-dfb5-3d67a708351a"
      },
      "source": [
        "from sklearn.metrics import r2_score, mean_squared_error,mean_absolute_percentage_error\n",
        "import math\n",
        "maxY=max(y_test)\n",
        "minY=min(y_test)\n",
        "a=maxY-minY\n",
        "print (\"The R-Squared value is: \"+str(r2_score(y_test, y_pred)))\n",
        "print (\"The Mean Squared Error value is: \"+str(mean_squared_error(y_test, y_pred)))\n",
        "print (\"The Root Mean Squared Error value is: \"+str(math.sqrt(mean_squared_error(y_test, y_pred))))\n",
        "print (\"The Normalize Root Mean Squared Error value is: \"+str(math.sqrt(mean_squared_error(y_test, y_pred))/a*100))\n",
        "print (\"The Mean Absolute Error value is: \"+str(mean_absolute_percentage_error(y_test, y_pred)*100))"
      ],
      "execution_count": null,
      "outputs": [
        {
          "output_type": "stream",
          "name": "stdout",
          "text": [
            "The R-Squared value is: -16721.027103612043\n",
            "The Mean Squared Error value is: 9572.70731263416\n",
            "The Root Mean Squared Error value is: 97.84021316735854\n",
            "The Normalize Root Mean Squared Error value is: 1956.804263347171\n",
            "The Mean Absolute Error value is: 433.09285801304844\n"
          ]
        }
      ]
    }
  ]
}